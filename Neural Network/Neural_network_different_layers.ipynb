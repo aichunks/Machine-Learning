{
 "cells": [
  {
   "cell_type": "markdown",
   "metadata": {},
   "source": [
    "# Neural Network from Scratch"
   ]
  },
  {
   "cell_type": "markdown",
   "metadata": {},
   "source": [
    "This notebook creates neural network algorithms using only the linear algebra library `numpy` . The sample data is a 2-dimensional data with three classes in a form of spirals. \n",
    "\n",
    "The content consists of the following aspects of neural networks:\n",
    "\n",
    "* Weight initialization\n",
    "* Loss functions\n",
    "    * Cross-entropy loss\n",
    "    * Hinge loss\n",
    "    * Regularization loss\n",
    "* Layers\n",
    "    * Linear\n",
    "    * Sigmoid\n",
    "    * Tanh\n",
    "    * ReLu\n",
    "    * Swish\n",
    "    * Softmax\n",
    "    * Hierarchical Softmax (TBD)\n",
    "    * SVM\n",
    "    * Dropout\n",
    "    * Batch Normalization\n",
    "    * Convolution (TBD)\n",
    "    * Pooling (TBD)\n",
    "    * RNN (TBD)\n",
    "    * LSTM (TBD)\n",
    "    * Embeddings (TBD)\n",
    "    * Capsule (TBD)\n",
    "* Training\n",
    "    * Linear > Softmax\n",
    "    * Linear > SVM\n",
    "    * [Linear > Activation]++ > [Linear > Output]\n",
    "* Optimization\n",
    "    * Gradient Descent (GD/SGD/Mini-batch SGD) (TBD)\n",
    "    * RMS Prop (TBD)\n",
    "    * Momentum (TBD)\n",
    "    * Adam (TBD)\n",
    "* Validation"
   ]
  },
  {
   "cell_type": "code",
   "execution_count": 11,
   "metadata": {},
   "outputs": [],
   "source": [
    "%matplotlib inline\n",
    "\n",
    "#usual data science stuff\n",
    "import matplotlib\n",
    "import numpy as np\n",
    "import random\n",
    "import pandas as pd\n",
    "import matplotlib.pyplot as plt\n",
    "from sklearn.metrics import confusion_matrix, f1_score, classification_report\n",
    "from sklearn.metrics import roc_curve, roc_auc_score, accuracy_score\n",
    "import itertools"
   ]
  },
  {
   "cell_type": "code",
   "execution_count": null,
   "metadata": {},
   "outputs": [],
   "source": [
    "# DATA GENRATION"
   ]
  },
  {
   "cell_type": "code",
   "execution_count": 96,
   "metadata": {},
   "outputs": [],
   "source": [
    "def spi_gen(N,D,K):\n",
    "\n",
    "    X = np.zeros((N*K,D)) # data matrix \n",
    "    y = np.zeros(N*K, dtype='uint8') # class labels\n",
    "    for j in range(K):\n",
    "      ix = range(N*j,N*(j+1))\n",
    "      r = np.linspace(0.0,1,N) # radius\n",
    "      t = np.linspace(j*4,(j+1)*4,N) + np.random.randn(N)*0.2 # theta\n",
    "      X[ix] = np.c_[r*np.sin(t), r*np.cos(t)]\n",
    "      y[ix] = j\n",
    "    return(X,y)"
   ]
  },
  {
   "cell_type": "code",
   "execution_count": 98,
   "metadata": {
    "hidden": true
   },
   "outputs": [
    {
     "name": "stdout",
     "output_type": "stream",
     "text": [
      "Shape of X: (30000, 2)\n",
      "Shape of y: (30000,)\n"
     ]
    }
   ],
   "source": [
    "D = 2 #2 features\n",
    "K = 3 #3 classes\n",
    "N = 3000 #number of samples\n",
    "\n",
    "X,y = spi_gen(int(N/K),D,K)\n",
    "print('Shape of X:',X.shape)\n",
    "print('Shape of y:',y.shape)"
   ]
  },
  {
   "cell_type": "markdown",
   "metadata": {
    "heading_collapsed": true
   },
   "source": [
    "# Weight Initialization"
   ]
  },
  {
   "cell_type": "markdown",
   "metadata": {
    "hidden": true
   },
   "source": []
  },
  {
   "cell_type": "markdown",
   "metadata": {
    "hidden": true
   },
   "source": [
    "We usually initialize the bias terms $b_i$ as zero vectors, and the weight terms $W_i$ as randomized matrices with different scaling terms.\n",
    "\n",
    "* Constant scaling\n",
    "* Xavier scaling: $\\sqrt{\\frac{1}{nodes_{previous}}}$\n",
    "* He scaling: $\\sqrt{\\frac{2}{nodes_{previous}}}$"
   ]
  },
  {
   "cell_type": "code",
   "execution_count": 99,
   "metadata": {
    "hidden": true
   },
   "outputs": [],
   "source": [
    "def init_weights(D,K,h_list,scaling,const=0.1):\n",
    "    nb_layers = len(h_list) + 1\n",
    "    W_list = [None] * nb_layers\n",
    "    b_list = [None] * nb_layers\n",
    "    \n",
    "    #randomize weights\n",
    "    for i in range(nb_layers):\n",
    "        #scaling term\n",
    "        if scaling=='constant':\n",
    "            scaler = const\n",
    "        elif scaling=='xavier':\n",
    "            scaler = np.sqrt(1.0 / h_list[i - 1])\n",
    "        elif scaling=='he':\n",
    "            scaler = np.sqrt(2.0 / h_list[i - 1])\n",
    "        else:\n",
    "            raise ValueError('Can only use \"constant\",\"xavier\" or \"he\" scaling')\n",
    "            \n",
    "        #input layer\n",
    "        if (i == 0):\n",
    "            W_list[i] = np.random.randn(D,h_list[i])\n",
    "            b_list[i] = np.zeros((1,h_list[i]))\n",
    "        #output layer\n",
    "        elif (i==nb_layers-1):\n",
    "            W_list[i] = np.random.randn(h_list[i-1],K) * scaler\n",
    "            b_list[i] = np.zeros((1,K))\n",
    "        #hidden layers\n",
    "        else:\n",
    "            W_list[i] = np.random.randn(h_list[i-1],h_list[i]) * scaler\n",
    "            b_list[i] = np.zeros((1,h_list[i]))\n",
    "    return W_list, b_list\n",
    "\n",
    "W_list, b_list = init_weights(2,3,[100,50],'he')\n",
    "W, b = W_list[0], b_list[0]"
   ]
  },
  {
   "cell_type": "markdown",
   "metadata": {
    "heading_collapsed": true
   },
   "source": [
    "# Loss Functions"
   ]
  },
  {
   "cell_type": "markdown",
   "metadata": {
    "hidden": true
   },
   "source": [
    "Loss functions are objective functions to be minimized during the training."
   ]
  },
  {
   "cell_type": "markdown",
   "metadata": {
    "heading_collapsed": true,
    "hidden": true
   },
   "source": [
    "## Cross-Entropy Loss"
   ]
  },
  {
   "cell_type": "markdown",
   "metadata": {
    "hidden": true
   },
   "source": [
    "For each example, the loss is the negative log of predicted probability of the correct class\n",
    "$$L_i = -\\sum_{k=1}^{K} y_klog(p_k)$$\n",
    "where \n",
    "* $y_k$ is the true probability of the class; in 1 or 0\n",
    "* $p_k$ is probability of a class\n",
    "* $i$ is an example\n",
    "\n",
    "The higher probability of the correct class, the lower the loss (for incorrect classes $y_k = 0$ so loss is 0)"
   ]
  },
  {
   "cell_type": "code",
   "execution_count": 59,
   "metadata": {
    "hidden": true,
    "scrolled": true
   },
   "outputs": [
    {
     "name": "stdout",
     "output_type": "stream",
     "text": [
      "done\n"
     ]
    },
    {
     "data": {
      "image/png": "[encoded data removed]",
      "text/plain": [
       "<Figure size 432x288 with 1 Axes>"
      ]
     },
     "metadata": {},
     "output_type": "display_data"
    }
   ],
   "source": [
    "p = np.arange(0.01, 1, 0.01)\n",
    "plt.plot(p,-np.log(p))\n",
    "plt.xlabel('prob')\n",
    "plt.ylabel('loss')\n",
    "print(\"done\")"
   ]
  },
  {
   "cell_type": "code",
   "execution_count": 60,
   "metadata": {
    "hidden": true
   },
   "outputs": [
    {
     "name": "stdout",
     "output_type": "stream",
     "text": [
      "Cross entropy loss: 0.9988723855347921\n"
     ]
    }
   ],
   "source": [
    "def cross_entropy(probs,y):\n",
    "    #probs: N x K\n",
    "    N = probs.shape[0]\n",
    "    #print('All normalized probs:',probs.shape)\n",
    "    \n",
    "    #normalized prob of correct label\n",
    "    correct_logprobs = -np.log(probs[range(N),y])\n",
    "    #print('-log(normalized probs) when label is correct:',correct_logprobs.shape)\n",
    "    \n",
    "    #data loss\n",
    "    data_loss = np.sum(correct_logprobs) / N\n",
    "    \n",
    "    return(data_loss)\n",
    "\n",
    "#test\n",
    "probs = np.random.random((3000,3))\n",
    "print('Cross entropy loss: {}'.format(cross_entropy(probs,y)))"
   ]
  },
  {
   "cell_type": "markdown",
   "metadata": {
    "heading_collapsed": true,
    "hidden": true
   },
   "source": [
    "## Hinge Loss"
   ]
  },
  {
   "cell_type": "markdown",
   "metadata": {
    "hidden": true
   },
   "source": [
    "For an example, the loss per class per example is positive only when the score of wrong class is more than score of correct class by margin.\n",
    "\n",
    "$$L_{i} = \\sum_{other \\ne correct}^{K} max(0,scores_{other} - scores_{correct} + \\Delta)$$\n",
    "\n",
    "Loss is positive only when the score of correct class is lower than an incorrect class, by magnitude more than margin."
   ]
  },
  {
   "cell_type": "code",
   "execution_count": 100,
   "metadata": {
    "hidden": true
   },
   "outputs": [
    {
     "data": {
      "image/png": "[encoded data removed]",
      "text/plain": [
       "<Figure size 432x288 with 1 Axes>"
      ]
     },
     "metadata": {},
     "output_type": "display_data"
    }
   ],
   "source": [
    "p = np.random.random((10, 10))\n",
    "delta=1\n",
    "for i in range(0,p.shape[0]):\n",
    "    fk=i+1\n",
    "    for j in range(0,p.shape[1]):\n",
    "        fcorrect=j+1\n",
    "        if i==j:\n",
    "            p[i,j]=0\n",
    "        else:\n",
    "            p[i,j] = max(0,fk-fcorrect+delta)\n",
    "\n",
    "plt.imshow(p, cmap='inferno', interpolation='nearest')\n",
    "plt.xlabel('scores_k')\n",
    "plt.ylabel('scores_correct')\n",
    "plt.show()"
   ]
  },
  {
   "cell_type": "code",
   "execution_count": 62,
   "metadata": {
    "hidden": true
   },
   "outputs": [
    {
     "name": "stdout",
     "output_type": "stream",
     "text": [
      "Hinge loss: 1.9885116975076162\n"
     ]
    }
   ],
   "source": [
    "def hinge(scores,y):\n",
    "    #scores: N x K\n",
    "    N = probs.shape[0]\n",
    "    \n",
    "    correct_scores = scores[range(N),y]\n",
    "   \n",
    "    # need to broadcast by row not columns\n",
    "    margin = scores.T - correct_scores + delta \n",
    "    margin = margin.T\n",
    "    \n",
    "    #zero loss at the correct label\n",
    "    margin[range(N),y] = 0 \n",
    "    \n",
    "    #element-wise max\n",
    "    margin = np.maximum(np.zeros(margin.shape),margin) \n",
    "    data_loss = np.sum(margin) / N\n",
    "\n",
    "    \n",
    "    return(data_loss)\n",
    "\n",
    "#test\n",
    "scores = np.random.random((3000,3))\n",
    "print('Hinge loss: {}'.format(hinge(scores,y)))"
   ]
  },
  {
   "cell_type": "markdown",
   "metadata": {
    "heading_collapsed": true,
    "hidden": true
   },
   "source": [
    "## Regularization"
   ]
  },
  {
   "cell_type": "markdown",
   "metadata": {
    "hidden": true
   },
   "source": [
    "Regularization loss is usually added to the loss function in order to prevent overfitting. It penalizes more complex weight terms.\n",
    "\n",
    "Data loss:\n",
    "\n",
    "$$L_{data} = \\frac{1}{N}\\sum_{n=1}^{N}L_i$$\n",
    "\n",
    "Regularization loss:\n",
    "\n",
    "$$l1 = \\frac{\\lambda}{2}|W|$$\n",
    "$$l2 = \\frac{\\lambda}{2}W^2$$\n",
    "\n",
    "where $W$ is the weights\n",
    "\n",
    "Overall loss:\n",
    "$$L_{overall} = L_{data} + L_{reg}$$"
   ]
  },
  {
   "cell_type": "code",
   "execution_count": 63,
   "metadata": {
    "hidden": true
   },
   "outputs": [
    {
     "name": "stdout",
     "output_type": "stream",
     "text": [
      "L2 Loss: 0.010377472091420606\n",
      "L1 Loss: 0.009064619175653892\n"
     ]
    }
   ],
   "source": [
    "def reg_loss_calc(W_list, l2=True, reg=1e-3):\n",
    "    loss = 0\n",
    "    if(l2):\n",
    "        for i in range(len(W_list)):\n",
    "            loss += 0.5 * reg * np.sum(W_list[i]* W_list[i])\n",
    "    else:\n",
    "        for i in range(len(W_list)):\n",
    "            loss += 0.5 * reg * np.sum(abs(W_list[i]))\n",
    "    return(loss)\n",
    "\n",
    "#test\n",
    "W_list = []\n",
    "for i in range(4):\n",
    "    W_list.append(np.random.randn(D,K))\n",
    "\n",
    "print('L2 Loss: {}'.format(reg_loss_calc(W_list,l2=True)))\n",
    "print('L1 Loss: {}'.format(reg_loss_calc(W_list,l2=False)))"
   ]
  },
  {
   "cell_type": "markdown",
   "metadata": {},
   "source": [
    "# Layers"
   ]
  },
  {
   "cell_type": "markdown",
   "metadata": {},
   "source": [
    "Layers are roughly classified into linear, activation and output layers. The output of their function is what passed to the next layer in the forward pass of training and the derivative is what passed to the previous layer in the backward pass."
   ]
  },
  {
   "cell_type": "markdown",
   "metadata": {},
   "source": [
    "## Linear"
   ]
  },
  {
   "cell_type": "markdown",
   "metadata": {
    "heading_collapsed": true
   },
   "source": [
    "### Forward Pass\n",
    "\n",
    "$$scores = X \\cdot W + b$$\n",
    "\n",
    "### Backward Pass\n",
    "\n",
    "$$\\frac{\\partial previous}{\\partial W} = \\frac{\\partial previous}{\\partial scores} \\cdot \\frac{\\partial scores}{\\partial W} = \\frac{\\partial previous}{\\partial scores} \\cdot X$$\n",
    "\n",
    "$$\\frac{\\partial previous}{\\partial b} = \\frac{\\partial previous}{\\partial scores} \\cdot \\frac{\\partial scores}{\\partial b} = \\frac{\\partial previous}{\\partial scores} \\cdot 1$$"
   ]
  },
  {
   "cell_type": "code",
   "execution_count": 19,
   "metadata": {
    "hidden": true
   },
   "outputs": [
    {
     "data": {
      "text/plain": [
       "Text(0,0.5,'out')"
      ]
     },
     "execution_count": 19,
     "metadata": {},
     "output_type": "execute_result"
    },
    {
     "data": {
      "image/png": "[encoded data removed]",
      "text/plain": [
       "<Figure size 432x288 with 1 Axes>"
      ]
     },
     "metadata": {},
     "output_type": "display_data"
    }
   ],
   "source": [
    "x = np.arange(0.01, 1, 0.01)\n",
    "w = 1.5\n",
    "b = 0.1\n",
    "plt.plot(x,w*x + b)\n",
    "plt.xlabel('in')\n",
    "plt.ylabel('out')"
   ]
  },
  {
   "cell_type": "code",
   "execution_count": 64,
   "metadata": {
    "hidden": true
   },
   "outputs": [
    {
     "name": "stdout",
     "output_type": "stream",
     "text": [
      "Forward pass: (3000, 100)\n",
      "Backward pass: (2, 100), (1, 100)\n"
     ]
    }
   ],
   "source": [
    "class Linear:\n",
    "    def forward(self,X,W,b):\n",
    "        #X: N x D\n",
    "        #W: D x K\n",
    "        scores = X.dot(W) + b #N x K\n",
    "        return(scores)\n",
    "    def backward(self,X,W,previous,reg=1e-3):\n",
    "        #previous: N x K\n",
    "        dW = X.T.dot(previous)\n",
    "        dW += reg * W\n",
    "        db = np.sum(previous,axis=0,keepdims=True)\n",
    "        return dW,db\n",
    "\n",
    "#test\n",
    "lin = Linear()\n",
    "scores = lin.forward(X,W,b)\n",
    "previous = np.ones_like(scores)\n",
    "dW, db = lin.backward(X,W,previous)\n",
    "print('Forward pass: {}'.format(scores.shape))\n",
    "print('Backward pass: {}, {}'.format(dW.shape,db.shape))"
   ]
  },
  {
   "cell_type": "markdown",
   "metadata": {
    "heading_collapsed": true
   },
   "source": [
    "## Sigmoid"
   ]
  },
  {
   "cell_type": "markdown",
   "metadata": {
    "hidden": true
   },
   "source": [
    "### Forward Pass\n",
    "\n",
    "$$out = \\frac{1}{1 + e^{-scores}}$$\n",
    "\n",
    "### Backward Pass\n",
    "\n",
    "$$\\frac{\\partial previous}{\\partial scores} = \\frac{\\partial previous}{\\partial out} \\cdot \\frac{\\partial out}{\\partial scores}\n",
    "\\\\\n",
    "\\frac{\\partial out}{\\partial scores} = (-1) \\cdot (\\frac{1}{1+e^{-x}})^2 \\cdot (-1) \\cdot (\\frac{1}{e^x})^2 \\cdot e^x \n",
    "\\\\\n",
    "= \\frac{e^{-x}}{(1+e^{-x})^2} = \\frac{1}{1+e^{-x}} \\cdot \\frac{e^{-x}}{1+e^{-x}} = out \\cdot \\frac{e^{-x}}{1+e^{-x}} \\\\\n",
    "= out \\cdot \\frac{(1+e^{-x}) - 1}{1+e^{-x}} = out \\cdot (1 - out)$$"
   ]
  },
  {
   "cell_type": "code",
   "execution_count": 65,
   "metadata": {
    "hidden": true
   },
   "outputs": [
    {
     "data": {
      "text/plain": [
       "Text(0,0.5,'out')"
      ]
     },
     "execution_count": 65,
     "metadata": {},
     "output_type": "execute_result"
    },
    {
     "data": {
      "image/png": "[encoded data removed]",
      "text/plain": [
       "<Figure size 432x288 with 1 Axes>"
      ]
     },
     "metadata": {},
     "output_type": "display_data"
    }
   ],
   "source": [
    "scores_p = np.arange(-10, 10, 0.1)\n",
    "out_p = 1. / (1. + np.exp(-scores_p))\n",
    "plt.plot(scores_p, out_p)\n",
    "plt.xlabel('in')\n",
    "plt.ylabel('out')"
   ]
  },
  {
   "cell_type": "code",
   "execution_count": 66,
   "metadata": {
    "hidden": true
   },
   "outputs": [
    {
     "name": "stdout",
     "output_type": "stream",
     "text": [
      "Forward pass: (3000, 100)\n",
      "Backward pass: (3000, 100)\n"
     ]
    }
   ],
   "source": [
    "class Sigmoid:\n",
    "\n",
    "    def forward(self,scores):\n",
    "        #scores: N x K\n",
    "        out = 1.0 / (1.0 + np.exp(-scores))\n",
    "        return out\n",
    "    \n",
    "    def backward(self,scores,previous):\n",
    "        out = self.forward(scores)\n",
    "        dscores = (1.0 - out) * out * previous\n",
    "        return(dscores)\n",
    "#test\n",
    "sig = Sigmoid()\n",
    "out = sig.forward(scores)\n",
    "dscores = sig.backward(scores,previous)\n",
    "print('Forward pass: {}'.format(out.shape))\n",
    "print('Backward pass: {}'.format(dscores.shape))"
   ]
  },
  {
   "cell_type": "markdown",
   "metadata": {
    "heading_collapsed": true
   },
   "source": [
    "## Tanh"
   ]
  },
  {
   "cell_type": "markdown",
   "metadata": {
    "hidden": true
   },
   "source": [
    "### Forward Pass\n",
    "\n",
    "$$out = \\tanh(scores)$$\n",
    "\n",
    "### Backward Pass\n",
    "\n",
    "$$\\frac{\\partial previous}{\\partial scores} = \\frac{\\partial previous}{\\partial out} \\cdot \\frac{\\partial out}{\\partial scores}\n",
    "\\\\\n",
    "\\frac{\\partial out}{\\partial scores} = 1 - \\tanh^2(scores) = 1 - out^2$$"
   ]
  },
  {
   "cell_type": "code",
   "execution_count": 23,
   "metadata": {
    "hidden": true
   },
   "outputs": [
    {
     "data": {
      "text/plain": [
       "Text(0,0.5,'out')"
      ]
     },
     "execution_count": 23,
     "metadata": {},
     "output_type": "execute_result"
    },
    {
     "data": {
      "image/png": "[encoded data removed]",
      "text/plain": [
       "<Figure size 432x288 with 1 Axes>"
      ]
     },
     "metadata": {},
     "output_type": "display_data"
    }
   ],
   "source": [
    "scores_p = np.arange(-10, 10, 0.1)\n",
    "out_p = np.tanh(scores_p)\n",
    "plt.plot(scores_p, out_p)\n",
    "plt.xlabel('in')\n",
    "plt.ylabel('out')"
   ]
  },
  {
   "cell_type": "code",
   "execution_count": 67,
   "metadata": {
    "hidden": true
   },
   "outputs": [
    {
     "name": "stdout",
     "output_type": "stream",
     "text": [
      "Forward pass: (3000, 100)\n",
      "Backward pass: (3000, 100)\n"
     ]
    }
   ],
   "source": [
    "class Tanh:\n",
    "    def forward(self,scores):\n",
    "        #scores: N x K\n",
    "        out = np.tanh(scores)\n",
    "        return out\n",
    "    \n",
    "    def backward(self,scores,previous):\n",
    "        out = self.forward(scores)\n",
    "        dscores = (1.0 - np.square(out)) * previous\n",
    "        return(dscores)\n",
    "#test\n",
    "tanh = Tanh()\n",
    "out = tanh.forward(scores)\n",
    "dscores = tanh.backward(scores,previous)\n",
    "print('Forward pass: {}'.format(out.shape))\n",
    "print('Backward pass: {}'.format(dscores.shape))"
   ]
  },
  {
   "cell_type": "markdown",
   "metadata": {
    "heading_collapsed": true
   },
   "source": [
    "## ReLu"
   ]
  },
  {
   "cell_type": "markdown",
   "metadata": {
    "hidden": true
   },
   "source": [
    "### Forward Pass\n",
    "\n",
    "$$out = max(0,scores)$$\n",
    "\n",
    "### Backward Pass\n",
    "\n",
    "$$\\frac{\\partial previous}{\\partial scores} = \\frac{\\partial previous}{\\partial out} \\cdot \\frac{\\partial out}{\\partial scores}\n",
    "\\\\\n",
    "\\frac{\\partial out}{\\partial scores} = \n",
    "\\begin{cases}\n",
    "1 & scores > 0 \\\\\n",
    "0 & otherwise\n",
    "\\end{cases}$$"
   ]
  },
  {
   "cell_type": "code",
   "execution_count": 68,
   "metadata": {
    "hidden": true
   },
   "outputs": [
    {
     "data": {
      "text/plain": [
       "Text(0,0.5,'out')"
      ]
     },
     "execution_count": 68,
     "metadata": {},
     "output_type": "execute_result"
    },
    {
     "data": {
      "image/png": "[encoded data removed]",
      "text/plain": [
       "<Figure size 432x288 with 1 Axes>"
      ]
     },
     "metadata": {},
     "output_type": "display_data"
    }
   ],
   "source": [
    "scores_p = np.arange(-10, 10, 0.1)\n",
    "out_p = np.maximum(0,scores_p)\n",
    "plt.plot(scores_p, out_p)\n",
    "plt.xlabel('in')\n",
    "plt.ylabel('out')"
   ]
  },
  {
   "cell_type": "code",
   "execution_count": 69,
   "metadata": {
    "hidden": true
   },
   "outputs": [
    {
     "name": "stdout",
     "output_type": "stream",
     "text": [
      "Forward pass: (3000, 100)\n",
      "Backward pass: (3000, 100)\n"
     ]
    }
   ],
   "source": [
    "class ReLu:\n",
    "    def forward(self,scores):\n",
    "        #scores: N x K\n",
    "        out = scores * (scores > 0)\n",
    "        return out\n",
    "    def backward(self, scores, previous):\n",
    "        dscores = 1.0 * (scores > 0) * previous\n",
    "        return(dscores)\n",
    "\n",
    "#test\n",
    "relu = ReLu()\n",
    "out = relu.forward(scores)\n",
    "dscores = relu.backward(scores,previous)\n",
    "print('Forward pass: {}'.format(out.shape))\n",
    "print('Backward pass: {}'.format(dscores.shape))"
   ]
  },
  {
   "cell_type": "markdown",
   "metadata": {
    "heading_collapsed": true
   },
   "source": [
    "## Swish"
   ]
  },
  {
   "cell_type": "markdown",
   "metadata": {
    "hidden": true
   },
   "source": [
    "### Forward Pass\n",
    "\n",
    "$$out = scores \\cdot \\frac{1}{1 + e^{-scores}}$$\n",
    "\n",
    "### Backward Pass\n",
    "\n",
    "$$\\frac{\\partial previous}{\\partial scores} = \\frac{\\partial previous}{\\partial out} \\cdot \\frac{\\partial out}{\\partial scores}\n",
    "\\\\\n",
    "\\frac{\\partial out}{\\partial scores} =scores \\cdot \\frac{\\partial \\sigma(scores)}{\\partial scores} + \\sigma(scores) \\cdot 1\\\\\n",
    "= scores  \\cdot \\sigma(scores) \\cdot (1-\\sigma(scores)) + \\sigma(scores) \\\\\n",
    "= scores \\cdot \\sigma(scores) - scores \\cdot (\\sigma(scores))^2 + \\sigma(scores) \\\\\n",
    "= out + \\sigma(scores) \\cdot (1-out)\n",
    "$$"
   ]
  },
  {
   "cell_type": "code",
   "execution_count": 70,
   "metadata": {
    "hidden": true
   },
   "outputs": [
    {
     "data": {
      "text/plain": [
       "Text(0,0.5,'out')"
      ]
     },
     "execution_count": 70,
     "metadata": {},
     "output_type": "execute_result"
    },
    {
     "data": {
      "image/png": "[encoded data removed]",
      "text/plain": [
       "<Figure size 432x288 with 1 Axes>"
      ]
     },
     "metadata": {},
     "output_type": "display_data"
    }
   ],
   "source": [
    "scores_p = np.arange(-10, 10, 0.1)\n",
    "out_p = scores_p / (1. + np.exp(-scores_p))\n",
    "plt.plot(scores_p, out_p)\n",
    "plt.axhline(y=0, color='r', linestyle='-')\n",
    "plt.xlabel('in')\n",
    "plt.ylabel('out')"
   ]
  },
  {
   "cell_type": "code",
   "execution_count": 71,
   "metadata": {
    "hidden": true
   },
   "outputs": [
    {
     "name": "stdout",
     "output_type": "stream",
     "text": [
      "Forward pass: (3000, 100)\n",
      "Backward pass: (3000, 100)\n"
     ]
    }
   ],
   "source": [
    "class Swish:\n",
    "    def sigmoid(self,scores):\n",
    "        out = 1.0 / (1.0 + np.exp(-scores))\n",
    "        return out\n",
    "\n",
    "    def forward(self,scores):\n",
    "        #scores: N x K\n",
    "        out = scores / (1.0 + np.exp(-scores))\n",
    "        return out\n",
    "    \n",
    "    def backward(self,scores,previous):\n",
    "        out = self.forward(scores)\n",
    "        dscores = (out + self.sigmoid(scores) * (1-out)) * previous\n",
    "        return(dscores)\n",
    "#test\n",
    "sw = Swish()\n",
    "out = sw.forward(scores)\n",
    "dscores = sw.backward(scores,previous)\n",
    "print('Forward pass: {}'.format(out.shape))\n",
    "print('Backward pass: {}'.format(dscores.shape))"
   ]
  },
  {
   "cell_type": "markdown",
   "metadata": {
    "heading_collapsed": true
   },
   "source": [
    "## Dropout"
   ]
  },
  {
   "cell_type": "markdown",
   "metadata": {
    "hidden": true
   },
   "source": [
    "Randomly chose nodes of previous layer to be *turned off*. The scaler $\\frac{1}{1-p}$ is added to keep the expectation of activation output the same as when there is no Dropout.\n",
    "\n",
    "$$mask = \n",
    "\\begin{cases}\n",
    "\\frac{1}{1-p} & u >= p\\\\\n",
    "0 & u < p\n",
    "\\end{cases}$$\n",
    "\n",
    "where $u$ is a sample from uniform distribution of $[0,1]$ and $p$ is the threshold for percentage of nodes to be dropped.\n",
    "\n",
    "### Forward Pass\n",
    "\n",
    "\n",
    "$$out = mask \\cdot scores$$\n",
    "\n",
    "### Backward Pass\n",
    "\n",
    "$$\\frac{\\partial previous}{\\partial scores} = \\frac{\\partial previous}{\\partial out} \\cdot \\frac{\\partial out}{\\partial scores}\n",
    "\\\\\n",
    "\\frac{\\partial out}{\\partial scores} = mask$$"
   ]
  },
  {
   "cell_type": "code",
   "execution_count": 72,
   "metadata": {
    "hidden": true
   },
   "outputs": [
    {
     "name": "stdout",
     "output_type": "stream",
     "text": [
      "Forward pass: (3000, 100)\n",
      "Backward pass: (3000, 100)\n"
     ]
    },
    {
     "data": {
      "text/plain": [
       "array([[0.        , 0.        , 3.33333333, ..., 3.33333333, 3.33333333,\n",
       "        3.33333333],\n",
       "       [3.33333333, 3.33333333, 3.33333333, ..., 3.33333333, 3.33333333,\n",
       "        3.33333333],\n",
       "       [3.33333333, 3.33333333, 0.        , ..., 3.33333333, 0.        ,\n",
       "        0.        ],\n",
       "       ...,\n",
       "       [3.33333333, 0.        , 3.33333333, ..., 0.        , 3.33333333,\n",
       "        3.33333333],\n",
       "       [3.33333333, 3.33333333, 0.        , ..., 0.        , 0.        ,\n",
       "        3.33333333],\n",
       "       [3.33333333, 3.33333333, 3.33333333, ..., 3.33333333, 3.33333333,\n",
       "        3.33333333]])"
      ]
     },
     "execution_count": 72,
     "metadata": {},
     "output_type": "execute_result"
    }
   ],
   "source": [
    "class Dropout:\n",
    "    def __init__(self,p,seed):\n",
    "        self.seed = seed\n",
    "        self.p = p\n",
    "    def mask(self,scores,scaling=True):\n",
    "        #if no dropout\n",
    "        if self.p == 1: return np.ones_like(scores)\n",
    "        \n",
    "        np.random.seed(seed=self.seed)\n",
    "        if (scaling): \n",
    "            scaler = 1.0/(1-self.p)\n",
    "        else:\n",
    "            scaler = 1.0\n",
    "        mask = scaler * np.random.binomial(n=1,p=self.p,size=scores.shape)\n",
    "        return(mask)\n",
    "    \n",
    "#test\n",
    "drop = Dropout(p=0.7,seed = 1412)\n",
    "mask = drop.mask(scores)\n",
    "print('Forward pass: {}'.format(mask.shape))\n",
    "print('Backward pass: {}'.format(mask.shape))\n",
    "mask"
   ]
  },
  {
   "cell_type": "markdown",
   "metadata": {},
   "source": [
    "## Batch Normalization"
   ]
  },
  {
   "cell_type": "markdown",
   "metadata": {},
   "source": [
    "Batch Normalization layer converts the activation to a gaussian distribution, then feed it to another linear layer (Norm > Linear). The process is redone every iteration, thus *batch* normalization. The benefits of using Linear > BatchNorm (Norm > Linear) > Activation > Dropout are:\n",
    "\n",
    "* Faster gradient flow\n",
    "* Allows higher learning rates\n",
    "* Reduce dependence on initialization\n",
    "* Regularization\n",
    "\n",
    "### Forward\n",
    "$$normalized_{i,j} = \\frac{scores_{i,j} - \\mu_j}{\\sqrt{{\\sigma_j}^2 + \\epsilon}}$$\n",
    "\n",
    "where $i$ is row of examples, $j$ is column of features and $\\epsilon$ is a small sclaer for numerical stability and regularization.\n",
    "\n",
    "$$out = c  + normalized \\cdot D$$\n",
    "\n",
    "where $c$ and $D$ are learned parameters in order to adjust *how normalized* the output needs to be.\n",
    "\n",
    "### Backward Pass\n",
    "\n",
    "#### Scores\n",
    "\n",
    "$$\\frac{\\partial previous}{\\partial scores} = \\frac{\\partial previous}{\\partial out} \\cdot \\frac{\\partial out}{\\partial normalized} \\cdot \\frac{\\partial normalized}{\\partial scores}\n",
    "\\\\\n",
    "\\frac{\\partial out}{\\partial normalized} = D\\\\\n",
    "\\frac{\\partial normalized}{\\partial scores} = \\frac{\\sqrt{{\\sigma_j}^2 + \\epsilon}(1-\\frac{\\partial \\mu_j}{scores_{i,j}}) - (scores_{i,j} - \\mu_j)(\\frac{1}{2})(\\frac{1}{\\sqrt{{\\sigma_j}^2 + \\epsilon}})(2){\\sigma_j}^2(\\frac{\\partial {\\sigma_j}^2}{\\partial scores_{i,j}})}{{\\sigma_j}^2 + \\epsilon}\\\\\n",
    "\\frac{\\partial \\mu_j}{\\partial scores_{i,j}} = \\frac{1}{N}\\frac{\\partial \\sum_{k=1}^{K} scores_{k,j}}{\\partial scores_{i,j}} = \\frac{1}{N}\\\\\n",
    "\\frac{\\partial {\\sigma_j}^2}{\\partial scores_{i,j}} = \\frac{1}{N}\\frac{\\partial \\sum_{k=1}^{K} (scores_{k,j} - \\mu_j)^2}{\\partial scores_{i,j}} = \\frac{2}{N}(scores_{i,j} - \\mu_j)(1-\\frac{1}{N}) \\\\\n",
    "\\frac{\\partial normalized}{\\partial scores} = (1-\\frac{1}{N})(\\sqrt{{\\sigma_j}^2 + \\epsilon} - \\frac{2\\sigma_j(scores_{i,j}-\\mu_j)^2}{N\\sqrt{{\\sigma_j}^2 + \\epsilon}})\n",
    "$$\n",
    "\n",
    "where N is the number of samples in the batch\n",
    "\n",
    "#### Linear parameters\n",
    "\n",
    "$$\n",
    "\\frac{\\partial previous}{\\partial param} = \\frac{\\partial previous}{\\partial out} \\cdot \\frac{\\partial out}{\\partial param}\\\\\n",
    "\\frac{\\partial out}{\\partial c} = 1\\\\\n",
    "\\frac{\\partial out}{\\partial D} = normalized\\\\\n",
    "$$"
   ]
  },
  {
   "cell_type": "code",
   "execution_count": 73,
   "metadata": {},
   "outputs": [],
   "source": [
    "class Norm:\n",
    "    def forward(self,scores,epsilon = 1e-3):\n",
    "        self.mu = np.mean(scores,axis=0)\n",
    "        self.sd = np.sqrt(np.var(scores+epsilon,axis=0))\n",
    "        self.N = scores.shape[0]\n",
    "        normalized = (scores - self.mu) / self.sd\n",
    "        return(normalized)\n",
    "    def backward(self,scores,previous,epsilon = 1e-3):\n",
    "        out = self.forward(scores,epsilon)\n",
    "        dnormalized = (1-(1.0/N)) * (self.sd - (2 * np.sqrt(np.var(scores,axis=0)) * (scores - self.mu)**2 )/(self.N * self.sd))\n",
    "        dnormalized *= previous\n",
    "        return(dnormalized)"
   ]
  },
  {
   "cell_type": "code",
   "execution_count": 74,
   "metadata": {},
   "outputs": [
    {
     "name": "stdout",
     "output_type": "stream",
     "text": [
      "Variance of output [1. 1.]\n",
      "Shape of dnormalized:  (3000, 100)\n"
     ]
    }
   ],
   "source": [
    "norm = Norm()\n",
    "print('Variance of output',np.var(norm.forward(X),axis=0))\n",
    "print('Shape of dnormalized: ',norm.backward(scores,previous).shape)"
   ]
  },
  {
   "cell_type": "markdown",
   "metadata": {
    "heading_collapsed": true
   },
   "source": [
    "## Softmax"
   ]
  },
  {
   "cell_type": "markdown",
   "metadata": {
    "hidden": true
   },
   "source": [
    "Assume cross-entropy loss.\n",
    "\n",
    "### Loss\n",
    "\n",
    "For each example, the loss is the negative log of predicted probability of the correct class\n",
    "$$L_i = -\\sum_{k=1}^{K} y_klog(p_k)$$\n",
    "\n",
    "### Forward Pass\n",
    "\n",
    "$$p_{class} = \\frac{e^{scores_{class}}}{\\sum_{k=1}^{K} e^{scores_{k}}}$$\n",
    "\n",
    "\n",
    "### Backward Pass\n",
    "\n",
    "$$\\frac{\\partial L}{\\partial scores_{class}} = \\frac{\\partial L}{\\partial p_{class}} \\cdot \\frac{\\partial p_{class}}{\\partial scores_{class}} = - \\frac{1}{p_{class}} \\cdot \\frac{\\partial p_{class}}{\\partial scores_{class}}\n",
    "\\\\\n",
    "\\frac{\\partial p_{class}}{\\partial scores_{class}} = \\frac{\\sum_{k=1}^{K} e^{scores_{k}}e^{scores_{class}} - e^{2scores_{class}}}{(\\sum_{k=1}^{K} e^{scores_{k}})^2} = p_{class} - p_{class}^2 = \n",
    "p_{class}(1-p_{class})\\\\\n",
    "\\frac{\\partial L}{\\partial scores_{class}} = p_{class} - 1 * y_{class}$$"
   ]
  },
  {
   "cell_type": "code",
   "execution_count": 75,
   "metadata": {
    "hidden": true
   },
   "outputs": [
    {
     "name": "stdout",
     "output_type": "stream",
     "text": [
      "Forward pass: (3000, 100)\n",
      "Backward pass: (3000, 100)\n",
      "Loss: 4.7460634181607695\n"
     ]
    }
   ],
   "source": [
    "class Softmax:\n",
    "    def forward(self,scores):\n",
    "        exp_scores = np.exp(scores)\n",
    "        probs = exp_scores / np.sum(exp_scores, axis=1, keepdims=True)\n",
    "        return(probs)\n",
    "    \n",
    "    def backward(self,scores,y):\n",
    "        N = scores.shape[0]\n",
    "        dscores = self.forward(scores)\n",
    "        dscores[range(N), y] -= 1\n",
    "        dscores /= N\n",
    "        return(dscores)   \n",
    "    \n",
    "    def cross_entropy(self,probs,y):\n",
    "        #probs: N x K\n",
    "        N = probs.shape[0]\n",
    "        #print('All normalized probs:',probs.shape)\n",
    "\n",
    "        #normalized prob of correct label\n",
    "        correct_logprobs = -np.log(probs[range(N),y])\n",
    "        #print('-log(normalized probs) when label is correct:',correct_logprobs.shape)\n",
    "\n",
    "        #data loss\n",
    "        data_loss = np.sum(correct_logprobs) / N\n",
    "\n",
    "        return(data_loss)\n",
    "    \n",
    "#test\n",
    "soft = Softmax()\n",
    "probs = soft.forward(scores)\n",
    "dscores = soft.backward(scores,y)\n",
    "loss = soft.cross_entropy(probs,y)\n",
    "print('Forward pass: {}'.format(probs.shape))\n",
    "print('Backward pass: {}'.format(dscores.shape))\n",
    "print('Loss: {}'.format(loss))"
   ]
  },
  {
   "cell_type": "markdown",
   "metadata": {},
   "source": [
    "## Hierarchical Softmax"
   ]
  },
  {
   "cell_type": "markdown",
   "metadata": {
    "heading_collapsed": true
   },
   "source": [
    "## SVM"
   ]
  },
  {
   "cell_type": "markdown",
   "metadata": {
    "hidden": true
   },
   "source": [
    "Assume hinge loss.\n",
    "\n",
    "### Loss\n",
    "\n",
    "$$L_{i} = \\sum_{other \\ne correct}^{K} max(0,scores_{other} - scores_{correct} + \\Delta)$$\n",
    "\n",
    "### Forward Pass\n",
    "\n",
    "$$scores_k = (X \\cdot W + b)_k$$\n",
    "\n",
    "### Backward Pass\n",
    "\n",
    "Derivative of loss function by weight\n",
    "$$\\frac{dL}{dscores} = \n",
    "\\begin{cases}\n",
    "\\frac{dL}{dscores_{correct}} \\\\\n",
    "\\frac{dL}{dscores_{other}}\n",
    "\\end{cases}$$\n",
    "\n",
    "$$\\frac{dL}{dscores_{correct}} = \n",
    "\\begin{cases}\n",
    "\\sum_{other \\ne correct}^{K} (-1) & scores_{other} - scores_{correct} + \\Delta > 0\\\\\n",
    "0 & scores_{other} - scores_{correct} + \\Delta <= 0\n",
    "\\end{cases}$$\n",
    "\n",
    "$$\\frac{dL}{dscores_{other}} = \n",
    "\\begin{cases}\n",
    "1  & scores_{other} - scores_{correct} + \\Delta > 0 \\\\\n",
    "0 & scores_{other} - scores_{correct} + \\Delta <= 0\\\\\n",
    "\\end{cases}$$"
   ]
  },
  {
   "cell_type": "code",
   "execution_count": 76,
   "metadata": {
    "hidden": true
   },
   "outputs": [
    {
     "name": "stdout",
     "output_type": "stream",
     "text": [
      "Forward pass: (3000,)\n",
      "Backward pass: (3000, 100)\n",
      "Loss: 100.918800527838\n"
     ]
    }
   ],
   "source": [
    "class SVM:\n",
    "    \n",
    "    def forward(self,scores):\n",
    "        return(scores)\n",
    "    \n",
    "    def forward_correct(self,scores,y):\n",
    "        N = scores.shape[0]\n",
    "        correct_scores = scores[range(N),y]\n",
    "        return(correct_scores)\n",
    "        \n",
    "    def backward(self,scores,y):\n",
    "        N = scores.shape[0]\n",
    "        correct_scores = self.forward_correct(scores,y)\n",
    "        # can broadcast by row not columns\n",
    "        margin = scores.T - correct_scores + delta \n",
    "        margin = margin.T\n",
    "        \n",
    "        #zero loss at the correct label\n",
    "        margin[range(N),y] = 0 \n",
    "        \n",
    "        #element-wise max\n",
    "        margin = np.maximum(np.zeros(margin.shape),margin) \n",
    "        \n",
    "        #binary to vectorize\n",
    "        binary = margin\n",
    "        #all derivatives whose scores are less than zero are zero\n",
    "        binary[margin>0] = 1\n",
    "        \n",
    "        #sum to deduct from those with correct class only; the rest are to be 1\n",
    "        col_sum = np.sum(binary,axis=1)\n",
    "        binary[range(N),y] -= col_sum[range(N)]\n",
    "        binary /= N\n",
    "        return(binary)\n",
    "        \n",
    "    def hinge(self,scores,y):\n",
    "        #scores: N x K\n",
    "        N = probs.shape[0]\n",
    "\n",
    "        correct_scores = scores[range(N),y]\n",
    "\n",
    "        # need to broadcast by row not columns\n",
    "        margin = scores.T - correct_scores + delta \n",
    "        margin = margin.T\n",
    "\n",
    "        #zero loss at the correct label\n",
    "        margin[range(N),y] = 0 \n",
    "\n",
    "        #element-wise max\n",
    "        margin = np.maximum(np.zeros(margin.shape),margin) \n",
    "        data_loss = np.sum(margin) / N\n",
    "        \n",
    "        return(data_loss)\n",
    "    \n",
    "#test\n",
    "svm = SVM()\n",
    "correct_scores = svm.forward_correct(scores,y)\n",
    "dscores = svm.backward(scores,y)\n",
    "loss = svm.hinge(scores,y)\n",
    "print('Forward pass: {}'.format(correct_scores.shape))\n",
    "print('Backward pass: {}'.format(dscores.shape))\n",
    "print('Loss: {}'.format(loss))"
   ]
  },
  {
   "cell_type": "markdown",
   "metadata": {},
   "source": [
    "# Training"
   ]
  },
  {
   "cell_type": "markdown",
   "metadata": {
    "heading_collapsed": true
   },
   "source": [
    "## Linear > Softmax"
   ]
  },
  {
   "cell_type": "code",
   "execution_count": 77,
   "metadata": {
    "hidden": true
   },
   "outputs": [
    {
     "name": "stdout",
     "output_type": "stream",
     "text": [
      "Iteration 0: loss 1.0418267552092715\n",
      "Iteration 100: loss 0.7464687841532849\n",
      "Iteration 200: loss 0.742429967317983\n",
      "Iteration 300: loss 0.7418953861363077\n",
      "Iteration 400: loss 0.7417853428019108\n",
      "Iteration 500: loss 0.7417595301627713\n",
      "Iteration 600: loss 0.7417532529723571\n",
      "Iteration 700: loss 0.7417517083515717\n",
      "Iteration 800: loss 0.7417513241125026\n",
      "Iteration 900: loss 0.7417512258350746\n"
     ]
    }
   ],
   "source": [
    "iter = 1000\n",
    "reg = 1e-3\n",
    "step_size = 1e-0\n",
    "\n",
    "#initialize weights\n",
    "W = np.random.randn(D,K)\n",
    "b = np.zeros((1,K))\n",
    "N = X.shape[0]\n",
    "\n",
    "#Architecture: Linear > Softmax\n",
    "lin = Linear()\n",
    "soft = Softmax()\n",
    "\n",
    "for i in np.arange(iter):\n",
    "    #forward pass\n",
    "    scores = lin.forward(X,W,b)\n",
    "    probs = soft.forward(scores)\n",
    "    loss = soft.cross_entropy(probs,y) + reg_loss_calc(W_list=[W])/N\n",
    "    \n",
    "    #report loss\n",
    "    if i % 100 == 0:\n",
    "        print(\"Iteration {}: loss {}\".format(i, loss))\n",
    "    \n",
    "    #backward pass\n",
    "    dscores = soft.backward(scores,y)\n",
    "    dW, db = lin.backward(X,W,dscores,reg=1e-3)\n",
    "    \n",
    "    #update weights\n",
    "    W += -step_size * dW\n",
    "    b += -step_size * db"
   ]
  },
  {
   "cell_type": "code",
   "execution_count": 86,
   "metadata": {
    "hidden": true
   },
   "outputs": [
    {
     "name": "stdout",
     "output_type": "stream",
     "text": [
      "Accuracy: 0.5306666666666666\n"
     ]
    }
   ],
   "source": [
    "#prediction\n",
    "def predict(X):\n",
    "    pred = np.argmax(soft.forward(lin.forward(X,W,b)),axis=1)\n",
    "    return(pred)\n",
    "\n",
    "print('Accuracy: {}'.format(np.mean(predict(X)==y)))"
   ]
  },
  {
   "cell_type": "markdown",
   "metadata": {
    "heading_collapsed": true
   },
   "source": [
    "## Linear > SVM"
   ]
  },
  {
   "cell_type": "code",
   "execution_count": 88,
   "metadata": {
    "hidden": true
   },
   "outputs": [
    {
     "name": "stdout",
     "output_type": "stream",
     "text": [
      "Iteration 0: loss 1.9997581678146457\n",
      "Iteration 100: loss 1.057181473574172\n",
      "Iteration 200: loss 1.0570709675626364\n",
      "Iteration 300: loss 1.0570706900568994\n",
      "Iteration 400: loss 1.057070825798525\n",
      "Iteration 500: loss 1.0570712169206902\n",
      "Iteration 600: loss 1.0570709197380872\n",
      "Iteration 700: loss 1.0570700182785244\n",
      "Iteration 800: loss 1.0570711870602159\n",
      "Iteration 900: loss 1.0570696858754733\n"
     ]
    }
   ],
   "source": [
    "iter = 1000\n",
    "reg = 1e-3\n",
    "step_size = 1e-0\n",
    "\n",
    "#initialize weights\n",
    "W = np.random.randn(D,K)\n",
    "b = np.zeros((1,K))\n",
    "N = X.shape[0]\n",
    "\n",
    "#Architecture: Linear > SVM\n",
    "lin = Linear()\n",
    "svm = SVM()\n",
    "\n",
    "for i in np.arange(iter):\n",
    "    #forward pass\n",
    "    scores = lin.forward(X,W,b)\n",
    "    probs = svm.forward_correct(scores,y)\n",
    "    loss = svm.hinge(scores,y) + reg_loss_calc(W_list=[W])/N\n",
    "    \n",
    "    #report loss\n",
    "    if i % 100 == 0:\n",
    "        print(\"Iteration {}: loss {}\".format(i, loss))\n",
    "    \n",
    "    #backward pass\n",
    "    dscores = svm.backward(scores,y)\n",
    "    dW, db = lin.backward(X,W,dscores)\n",
    "    \n",
    "    #update weights\n",
    "    W += -step_size * dW\n",
    "    b += -step_size * db"
   ]
  },
  {
   "cell_type": "code",
   "execution_count": 87,
   "metadata": {
    "hidden": true
   },
   "outputs": [
    {
     "name": "stdout",
     "output_type": "stream",
     "text": [
      "Accuracy: 0.5306666666666666\n"
     ]
    }
   ],
   "source": [
    "#prediction\n",
    "def predict(X):\n",
    "    pred = np.argmax(svm.forward(lin.forward(X,W,b)),axis=1)\n",
    "    return(pred)\n",
    "\n",
    "print('Accuracy: {}'.format(np.mean(predict(X)==y)))"
   ]
  },
  {
   "cell_type": "markdown",
   "metadata": {},
   "source": [
    "## [Linear > Activation]++ > [Linear > Output]"
   ]
  },
  {
   "cell_type": "markdown",
   "metadata": {},
   "source": [
    "For the `[Linear > Output]` layer,\n",
    "\n",
    "$$\\frac{dL}{dW_{last}} = \\frac{dL}{dscores_{last}} * \\frac{dscores_{last}}{dW_{last}} $$\n",
    "\n",
    "For the `[Linear > Activation]` layers,\n",
    "\n",
    "$$\\frac{dL}{dW_{nonlast}} = \\frac{dL}{dscores_{previous}} * \\frac{dscores_{previous}}{dscores_{nonlast}} * \\frac{dscores_{nonlast}}{dW_{nonlast}} $$\n",
    "\n",
    "$$\\frac{dscores_{previous}}{dscores_{nonlast}} = \n",
    "\\frac{d(scores_{nonlast}W_{previous} + b_{previous})}{dscores_{nonlast}} = W_{previous}$$"
   ]
  },
  {
   "cell_type": "code",
   "execution_count": 40,
   "metadata": {
    "code_folding": []
   },
   "outputs": [],
   "source": [
    "class DeepModel:\n",
    "    def __init__(self,X,y,D,K,h_list,p_list,\n",
    "                 activation_list,output_activation,scaling,const=0.1):\n",
    "        #parameters\n",
    "        self.X=X\n",
    "        self.y=y\n",
    "        self.nb_layers = len(h_list) + 1\n",
    "        nb_layers = self.nb_layers\n",
    "        self.h_list = h_list\n",
    "        self.p_list = p_list\n",
    "        self.W_list = [None] * nb_layers\n",
    "        self.b_list = [None] * nb_layers\n",
    "        self.X_list = [None] * nb_layers\n",
    "        self.X_list[0] = self.X\n",
    "\n",
    "        self.act_list = [None] * nb_layers\n",
    "        self.lin_list = [None] * nb_layers\n",
    "        self.drop_list = [None] * nb_layers\n",
    "        self.linout_list = [None] * nb_layers\n",
    "        self.actout_list = [None] * nb_layers\n",
    "        self.mask_list = [None] * nb_layers\n",
    "\n",
    "        self.dscores_list = [None] * nb_layers\n",
    "        self.dW_list = [None] * nb_layers\n",
    "        self.db_list = [None] * nb_layers\n",
    "    \n",
    "        #randomize weights\n",
    "        for i in range(nb_layers):\n",
    "            #scaling term\n",
    "            if scaling=='constant':\n",
    "                scaler = const\n",
    "            elif scaling=='xavier':\n",
    "                scaler = np.sqrt(1.0 / h_list[i - 1])\n",
    "            elif scaling=='he':\n",
    "                scaler = np.sqrt(2.0 / h_list[i - 1])\n",
    "            else:\n",
    "                raise ValueError('Can only use \"constant\",\"xavier\" or \"he\" scaling')\n",
    "            #linear layers\n",
    "            self.lin_list[i] = Linear()\n",
    "            if (i == 0):\n",
    "                self.W_list[i] = np.random.randn(D,h_list[i])\n",
    "                self.b_list[i] = np.zeros((1,h_list[i]))\n",
    "            elif (i==nb_layers-1):\n",
    "                self.W_list[i] = np.random.randn(h_list[i-1],K) * scaler\n",
    "                self.b_list[i] = np.zeros((1,K))\n",
    "            else:\n",
    "                self.W_list[i] = np.random.randn(h_list[i-1],h_list[i]) * scaler\n",
    "                self.b_list[i] = np.zeros((1,h_list[i]))\n",
    "\n",
    "            #activation layers\n",
    "            seed = random.randint(1, 9999)\n",
    "            if (i<nb_layers-1):\n",
    "                self.act_list[i] = activation_list[i]\n",
    "                self.drop_list[i] = Dropout(seed=seed,p=p_list[i])\n",
    "            else:\n",
    "                self.act_list[i] = output_activation\n",
    "                self.drop_list[i] = Dropout(seed=seed,p=1)\n",
    "    \n",
    "    def summary(self):\n",
    "        nb_layers = self.nb_layers\n",
    "        h_list = self.h_list\n",
    "        N = self.X_list[0].shape[0]\n",
    "        \n",
    "        for i in range(nb_layers):\n",
    "                \n",
    "            print('[LIN] {}: Input ({},{}), Weight {}, Bias {}, Output ({},{})'.format(i,\n",
    "                N,self.W_list[i].shape[0],                                                              \n",
    "                self.W_list[i].shape,\n",
    "                self.b_list[i].shape,\n",
    "                N,self.W_list[i].shape[1]))\n",
    "            \n",
    "            if (i < nb_layers - 1):\n",
    "                print('[ACT] {}: Input-Output ({},{}), Dropout {}, Activation {}'.format(i,N,self.W_list[i].shape[1], \\\n",
    "                                                                                         self.p_list[i],self.act_list[i]))\n",
    "            else:\n",
    "                print('[OUT] {}: Input-Output ({},{})'.format(i,N,self.W_list[i].shape[1]))\n",
    "            \n",
    "    def train(self,iter,reg,step_size,use_l2):\n",
    "        nb_layers = self.nb_layers\n",
    "        X_list = self.X_list\n",
    "        act_list = self.act_list\n",
    "        lin_list = self.lin_list\n",
    "        actout_list = self.actout_list\n",
    "        linout_list = self.linout_list\n",
    "        dscores_list = self.dscores_list\n",
    "        dW_list = self.dW_list\n",
    "        db_list = self.db_list\n",
    "        y = self.y\n",
    "        \n",
    "        for j in np.arange(iter):\n",
    "            #forward\n",
    "            for i in range(nb_layers):\n",
    "                linout_list[i] = lin_list[i].forward(X_list[i],self.W_list[i],self.b_list[i])\n",
    "                actout_list[i] = act_list[i].forward(linout_list[i])\n",
    "                #dropout\n",
    "                self.mask_list[i] = self.drop_list[i].mask(actout_list[i])\n",
    "                actout_list[i] *= self.mask_list[i]\n",
    "                if (i < nb_layers-1): X_list[i+1] = actout_list[i]\n",
    "\n",
    "            if type(act_list[nb_layers-1]) is Softmax:\n",
    "                data_loss = act_list[nb_layers-1].cross_entropy(actout_list[nb_layers-1],y)\n",
    "            else:\n",
    "                data_loss = act_list[nb_layers-1].hinge(actout_list[nb_layers-1],y)\n",
    "            reg_loss = reg_loss_calc(self.W_list,l2=use_l2,reg=reg)\n",
    "            loss = data_loss + reg_loss\n",
    "\n",
    "            if j % (iter/10) == 0:\n",
    "                print('Loss at iteration {}: {}'.format(j,loss))\n",
    "\n",
    "            #backward\n",
    "            for i in reversed(range(nb_layers)):\n",
    "                #backward activation\n",
    "                if i < nb_layers-1:\n",
    "                    dscores_list[i] = act_list[i].backward(X_list[i+1],dscores_list[i+1].dot(self.W_list[i+1].T))\n",
    "                    #dropout\n",
    "                    dscores_list[i] *= self.mask_list[i]\n",
    "                else:\n",
    "                    dscores_list[i] = act_list[i].backward(linout_list[i],y)   \n",
    "\n",
    "                #backward linear\n",
    "                dW_list[i],db_list[i] = lin_list[i].backward(X_list[i],self.W_list[i],dscores_list[i],reg=reg)\n",
    "\n",
    "            #update\n",
    "            for i in range(nb_layers):\n",
    "                self.W_list[i] -= step_size * dW_list[i]\n",
    "                self.b_list[i] -= step_size * db_list[i]  \n",
    "\n",
    "    def pred(self,X):\n",
    "        nb_layers = self.nb_layers\n",
    "        X_list = self.X_list\n",
    "        X_list[0] = X\n",
    "        act_list = self.act_list\n",
    "        lin_list = self.lin_list\n",
    "        actout_list = self.actout_list\n",
    "        linout_list = self.linout_list\n",
    "        W_list = self.W_list\n",
    "        b_list= self.b_list\n",
    "        \n",
    "        for i in range(nb_layers):\n",
    "            linout_list[i] = lin_list[i].forward(X_list[i],W_list[i],b_list[i])\n",
    "            actout_list[i] = act_list[i].forward(linout_list[i])\n",
    "            if (i < nb_layers-1): X_list[i+1] = actout_list[i]\n",
    "        pred = np.argmax(actout_list[nb_layers-1], axis=1)\n",
    "        return pred"
   ]
  },
  {
   "cell_type": "code",
   "execution_count": 41,
   "metadata": {},
   "outputs": [
    {
     "name": "stdout",
     "output_type": "stream",
     "text": [
      "[LIN] 0: Input (3000,2), Weight (2, 100), Bias (1, 100), Output (3000,100)\n",
      "[ACT] 0: Input-Output (3000,100), Dropout 0.5, Activation <__main__.ReLu object at 0x0000021229EB5198>\n",
      "[LIN] 1: Input (3000,100), Weight (100, 50), Bias (1, 50), Output (3000,50)\n",
      "[ACT] 1: Input-Output (3000,50), Dropout 0.5, Activation <__main__.ReLu object at 0x0000021229EB5E10>\n",
      "[LIN] 2: Input (3000,50), Weight (50, 3), Bias (1, 3), Output (3000,3)\n",
      "[OUT] 2: Input-Output (3000,3)\n"
     ]
    }
   ],
   "source": [
    "mod = DeepModel(X,y,D,K,h_list=[100,50],p_list=[0.5,0.5],\n",
    "                activation_list=[ReLu(),ReLu()],output_activation=Softmax(),scaling='he')\n",
    "mod.summary()"
   ]
  },
  {
   "cell_type": "code",
   "execution_count": 42,
   "metadata": {},
   "outputs": [
    {
     "name": "stdout",
     "output_type": "stream",
     "text": [
      "Loss at iteration 0: 1.7745609755329512\n",
      "Loss at iteration 100: 0.3546825147436188\n",
      "Loss at iteration 200: 0.2625830450894257\n",
      "Loss at iteration 300: 0.23267825036885498\n",
      "Loss at iteration 400: 0.21678612593538715\n",
      "Loss at iteration 500: 0.20694479922755715\n",
      "Loss at iteration 600: 0.19505523411321546\n",
      "Loss at iteration 700: 0.19199325397890885\n",
      "Loss at iteration 800: 0.18967947136994712\n",
      "Loss at iteration 900: 0.1769857075433599\n"
     ]
    }
   ],
   "source": [
    "mod.train(iter=1000,reg=1e-3,step_size=1e-0,use_l2=True)"
   ]
  },
  {
   "cell_type": "code",
   "execution_count": 92,
   "metadata": {},
   "outputs": [
    {
     "name": "stdout",
     "output_type": "stream",
     "text": [
      "Accuracy: 0.9906666666666667\n"
     ]
    }
   ],
   "source": [
    "print('Accuracy: {}'.format(np.mean(y==mod.pred(X))))"
   ]
  },
  {
   "cell_type": "markdown",
   "metadata": {},
   "source": [
    "# Validation"
   ]
  },
  {
   "cell_type": "markdown",
   "metadata": {},
   "source": [
    "## Train/Validation Split"
   ]
  },
  {
   "cell_type": "code",
   "execution_count": 45,
   "metadata": {},
   "outputs": [],
   "source": [
    "def train_valid_split(X,y,p=0.6):\n",
    "    ind = np.arange(X.shape[0])\n",
    "    random.shuffle(ind)\n",
    "    split = round(X.shape[0] * p)\n",
    "    train_ind = ind[:split]\n",
    "    valid_ind = ind[split:]\n",
    "    \n",
    "    X_train = X[train_ind]\n",
    "    y_train = y[train_ind]\n",
    "    X_valid =  X[valid_ind]\n",
    "    y_valid = y[valid_ind]\n",
    "    \n",
    "    return X_train,y_train,X_valid,y_valid\n",
    "\n",
    "#test\n",
    "X_train,y_train,X_valid,y_valid = train_valid_split(X,y,p=0.5)"
   ]
  },
  {
   "cell_type": "code",
   "execution_count": 46,
   "metadata": {},
   "outputs": [
    {
     "name": "stdout",
     "output_type": "stream",
     "text": [
      "Loss at iteration 0: 1.4072159818971355\n",
      "Loss at iteration 100: 0.43840141386968834\n",
      "Loss at iteration 200: 0.31318986927728143\n",
      "Loss at iteration 300: 0.27924668175637235\n",
      "Loss at iteration 400: 0.2632470625143435\n",
      "Loss at iteration 500: 0.2529580947514176\n",
      "Loss at iteration 600: 0.2451516672597066\n",
      "Loss at iteration 700: 0.23867194515077927\n",
      "Loss at iteration 800: 0.2330030513721067\n",
      "Loss at iteration 900: 0.22789333558766509\n"
     ]
    }
   ],
   "source": [
    "mod = DeepModel(X_train,y_train,D,K,h_list=[100,100],p_list=[1,1],\n",
    "                activation_list=[ReLu(),Norm()],output_activation=Softmax(),scaling='he')\n",
    "mod.train(iter=1000,reg=1e-3,step_size=1e-1,use_l2=True)\n",
    "y_pred = mod.pred(X_valid)"
   ]
  },
  {
   "cell_type": "markdown",
   "metadata": {},
   "source": [
    "## Confusion Matrix"
   ]
  },
  {
   "cell_type": "code",
   "execution_count": 94,
   "metadata": {},
   "outputs": [],
   "source": [
    "def plot_confusion(cm, classes, normalize=False, title='Confusion matrix', cmap=plt.cm.Blues):\n",
    "    plt.figure()\n",
    "    plt.imshow(cm, interpolation='nearest', cmap=cmap)\n",
    "    plt.title(title)\n",
    "    plt.colorbar()\n",
    "    tick_marks = np.arange(len(classes))\n",
    "    plt.xticks(tick_marks, classes, rotation=45)\n",
    "    plt.yticks(tick_marks, classes)\n",
    "\n",
    "    if normalize:\n",
    "        cm = cm.astype('float') / cm.sum(axis=1)[:, np.newaxis]\n",
    "    #print(cm)\n",
    "    thresh = cm.max() / 2.\n",
    "    for i, j in itertools.product(range(cm.shape[0]), range(cm.shape[1])):\n",
    "        plt.text(j, i, cm[i, j], horizontalalignment=\"center\", color=\"white\" if cm[i, j] > thresh else \"black\")\n",
    "\n",
    "    plt.tight_layout()\n",
    "    plt.ylabel('True label')\n",
    "    plt.xlabel('Predicted label')"
   ]
  },
  {
   "cell_type": "code",
   "execution_count": 95,
   "metadata": {
    "scrolled": true
   },
   "outputs": [
    {
     "data": {
      "image/png": "[encoded data removed]",
      "text/plain": [
       "<Figure size 432x288 with 2 Axes>"
      ]
     },
     "metadata": {},
     "output_type": "display_data"
    }
   ],
   "source": [
    "cm = confusion_matrix(y_pred, y_valid)\n",
    "plot_confusion(cm,[0,1,2])"
   ]
  },
  {
   "cell_type": "markdown",
   "metadata": {},
   "source": [
    "## Accuracies"
   ]
  },
  {
   "cell_type": "code",
   "execution_count": 48,
   "metadata": {},
   "outputs": [
    {
     "name": "stdout",
     "output_type": "stream",
     "text": [
      "             precision    recall  f1-score   support\n",
      "\n",
      "          0       0.99      0.97      0.98       529\n",
      "          1       0.98      0.99      0.98       496\n",
      "          2       0.99      1.00      0.99       475\n",
      "\n",
      "avg / total       0.99      0.99      0.99      1500\n",
      "\n"
     ]
    }
   ],
   "source": [
    "print(classification_report(y_valid, y_pred))"
   ]
  }
 ],
 "metadata": {
  "kernelspec": {
   "display_name": "Python 3",
   "language": "python",
   "name": "python3"
  },
  "language_info": {
   "codemirror_mode": {
    "name": "ipython",
    "version": 3
   },
   "file_extension": ".py",
   "mimetype": "text/x-python",
   "name": "python",
   "nbconvert_exporter": "python",
   "pygments_lexer": "ipython3",
   "version": "3.6.5"
  },
  "toc": {
   "nav_menu": {},
   "number_sections": true,
   "sideBar": true,
   "skip_h1_title": false,
   "toc_cell": false,
   "toc_position": {},
   "toc_section_display": "block",
   "toc_window_display": false
  }
 },
 "nbformat": 4,
 "nbformat_minor": 2
}
